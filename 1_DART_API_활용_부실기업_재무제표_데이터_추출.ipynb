{
  "cells": [
    {
      "cell_type": "markdown",
      "metadata": {
        "id": "view-in-github",
        "colab_type": "text"
      },
      "source": [
        "<a href=\"https://colab.research.google.com/github/kkc0122/Machine-Learning/blob/main/1_DART_API_%ED%99%9C%EC%9A%A9_%EB%B6%80%EC%8B%A4%EA%B8%B0%EC%97%85_%EC%9E%AC%EB%AC%B4%EC%A0%9C%ED%91%9C_%EB%8D%B0%EC%9D%B4%ED%84%B0_%EC%B6%94%EC%B6%9C.ipynb\" target=\"_parent\"><img src=\"https://colab.research.google.com/assets/colab-badge.svg\" alt=\"Open In Colab\"/></a>"
      ]
    },
    {
      "cell_type": "code",
      "execution_count": null,
      "metadata": {
        "colab": {
          "base_uri": "https://localhost:8080/"
        },
        "id": "6I4DF3z_sVYX",
        "outputId": "cebdc80a-a0c4-4a52-8ca1-4c77a87c7222"
      },
      "outputs": [
        {
          "output_type": "stream",
          "name": "stdout",
          "text": [
            "Collecting dart_fss\n",
            "  Downloading dart_fss-0.4.10-py3-none-any.whl.metadata (3.5 kB)\n",
            "Collecting xmltodict (from dart_fss)\n",
            "  Downloading xmltodict-0.14.2-py2.py3-none-any.whl.metadata (8.0 kB)\n",
            "Requirement already satisfied: requests in /usr/local/lib/python3.10/dist-packages (from dart_fss) (2.32.3)\n",
            "Collecting arelle-release (from dart_fss)\n",
            "  Downloading arelle_release-2.36.3-py3-none-any.whl.metadata (9.0 kB)\n",
            "Requirement already satisfied: numpy in /usr/local/lib/python3.10/dist-packages (from dart_fss) (1.26.4)\n",
            "Requirement already satisfied: pandas in /usr/local/lib/python3.10/dist-packages (from dart_fss) (2.2.2)\n",
            "Requirement already satisfied: tqdm in /usr/local/lib/python3.10/dist-packages (from dart_fss) (4.67.1)\n",
            "Collecting yaspin (from dart_fss)\n",
            "  Downloading yaspin-3.1.0-py3-none-any.whl.metadata (14 kB)\n",
            "Collecting fake-useragent>=1.5 (from dart_fss)\n",
            "  Downloading fake_useragent-2.0.3-py3-none-any.whl.metadata (17 kB)\n",
            "Requirement already satisfied: beautifulsoup4 in /usr/local/lib/python3.10/dist-packages (from dart_fss) (4.12.3)\n",
            "Collecting appdirs (from dart_fss)\n",
            "  Downloading appdirs-1.4.4-py2.py3-none-any.whl.metadata (9.0 kB)\n",
            "Requirement already satisfied: certifi in /usr/local/lib/python3.10/dist-packages (from arelle-release->dart_fss) (2024.12.14)\n",
            "Requirement already satisfied: filelock in /usr/local/lib/python3.10/dist-packages (from arelle-release->dart_fss) (3.16.1)\n",
            "Collecting isodate==0.* (from arelle-release->dart_fss)\n",
            "  Downloading isodate-0.7.2-py3-none-any.whl.metadata (11 kB)\n",
            "Requirement already satisfied: lxml<6,>=4 in /usr/local/lib/python3.10/dist-packages (from arelle-release->dart_fss) (5.3.0)\n",
            "Requirement already satisfied: openpyxl==3.* in /usr/local/lib/python3.10/dist-packages (from arelle-release->dart_fss) (3.1.5)\n",
            "Requirement already satisfied: pillow<12,>=10 in /usr/local/lib/python3.10/dist-packages (from arelle-release->dart_fss) (11.0.0)\n",
            "Requirement already satisfied: pyparsing==3.* in /usr/local/lib/python3.10/dist-packages (from arelle-release->dart_fss) (3.2.0)\n",
            "Requirement already satisfied: python-dateutil==2.* in /usr/local/lib/python3.10/dist-packages (from arelle-release->dart_fss) (2.8.2)\n",
            "Requirement already satisfied: regex in /usr/local/lib/python3.10/dist-packages (from arelle-release->dart_fss) (2024.11.6)\n",
            "Requirement already satisfied: et-xmlfile in /usr/local/lib/python3.10/dist-packages (from openpyxl==3.*->arelle-release->dart_fss) (2.0.0)\n",
            "Requirement already satisfied: six>=1.5 in /usr/local/lib/python3.10/dist-packages (from python-dateutil==2.*->arelle-release->dart_fss) (1.17.0)\n",
            "Requirement already satisfied: soupsieve>1.2 in /usr/local/lib/python3.10/dist-packages (from beautifulsoup4->dart_fss) (2.6)\n",
            "Requirement already satisfied: pytz>=2020.1 in /usr/local/lib/python3.10/dist-packages (from pandas->dart_fss) (2024.2)\n",
            "Requirement already satisfied: tzdata>=2022.7 in /usr/local/lib/python3.10/dist-packages (from pandas->dart_fss) (2024.2)\n",
            "Requirement already satisfied: charset-normalizer<4,>=2 in /usr/local/lib/python3.10/dist-packages (from requests->dart_fss) (3.4.0)\n",
            "Requirement already satisfied: idna<4,>=2.5 in /usr/local/lib/python3.10/dist-packages (from requests->dart_fss) (3.10)\n",
            "Requirement already satisfied: urllib3<3,>=1.21.1 in /usr/local/lib/python3.10/dist-packages (from requests->dart_fss) (2.2.3)\n",
            "Collecting termcolor<2.4.0,>=2.2.0 (from yaspin->dart_fss)\n",
            "  Downloading termcolor-2.3.0-py3-none-any.whl.metadata (5.3 kB)\n",
            "Downloading dart_fss-0.4.10-py3-none-any.whl (145 kB)\n",
            "\u001b[2K   \u001b[90m━━━━━━━━━━━━━━━━━━━━━━━━━━━━━━━━━━━━━━━━\u001b[0m \u001b[32m145.7/145.7 kB\u001b[0m \u001b[31m4.5 MB/s\u001b[0m eta \u001b[36m0:00:00\u001b[0m\n",
            "\u001b[?25hDownloading fake_useragent-2.0.3-py3-none-any.whl (201 kB)\n",
            "\u001b[2K   \u001b[90m━━━━━━━━━━━━━━━━━━━━━━━━━━━━━━━━━━━━━━━━\u001b[0m \u001b[32m201.1/201.1 kB\u001b[0m \u001b[31m8.6 MB/s\u001b[0m eta \u001b[36m0:00:00\u001b[0m\n",
            "\u001b[?25hDownloading appdirs-1.4.4-py2.py3-none-any.whl (9.6 kB)\n",
            "Downloading arelle_release-2.36.3-py3-none-any.whl (8.5 MB)\n",
            "\u001b[2K   \u001b[90m━━━━━━━━━━━━━━━━━━━━━━━━━━━━━━━━━━━━━━━━\u001b[0m \u001b[32m8.5/8.5 MB\u001b[0m \u001b[31m38.6 MB/s\u001b[0m eta \u001b[36m0:00:00\u001b[0m\n",
            "\u001b[?25hDownloading isodate-0.7.2-py3-none-any.whl (22 kB)\n",
            "Downloading xmltodict-0.14.2-py2.py3-none-any.whl (10.0 kB)\n",
            "Downloading yaspin-3.1.0-py3-none-any.whl (18 kB)\n",
            "Downloading termcolor-2.3.0-py3-none-any.whl (6.9 kB)\n",
            "Installing collected packages: appdirs, xmltodict, termcolor, isodate, fake-useragent, yaspin, arelle-release, dart_fss\n",
            "  Attempting uninstall: termcolor\n",
            "    Found existing installation: termcolor 2.5.0\n",
            "    Uninstalling termcolor-2.5.0:\n",
            "      Successfully uninstalled termcolor-2.5.0\n",
            "Successfully installed appdirs-1.4.4 arelle-release-2.36.3 dart_fss-0.4.10 fake-useragent-2.0.3 isodate-0.7.2 termcolor-2.3.0 xmltodict-0.14.2 yaspin-3.1.0\n"
          ]
        },
        {
          "output_type": "stream",
          "name": "stderr",
          "text": [
            "WARNING:fake_useragent:Error occurred during getting browser(s): random, but was suppressed with fallback.\n"
          ]
        },
        {
          "output_type": "stream",
          "name": "stdout",
          "text": []
        }
      ],
      "source": [
        "import os\n",
        "import pandas as pd\n",
        "!pip install dart_fss\n",
        "import dart_fss as dart\n",
        "import requests\n",
        "from bs4 import BeautifulSoup\n",
        "import concurrent.futures\n",
        "import time\n",
        "\n",
        "# DART API 키 설정\n",
        "api_key = 'b466c6a530c6f3ff91f41d5250ed68ddbdf45d1f'\n",
        "dart.set_api_key(api_key=api_key)\n",
        "\n",
        "# 기업 리스트 로드\n",
        "corp_list = dart.get_corp_list()"
      ]
    },
    {
      "cell_type": "code",
      "execution_count": null,
      "metadata": {
        "id": "UZI73BgQdDAA"
      },
      "outputs": [],
      "source": [
        "# 캐싱 및 데이터 추출 함수\n",
        "def fetch_or_load_fs(corp_name='스마트솔루션즈', year=2023):\n",
        "    filename = f'{corp_name}_{year}.pkl'\n",
        "\n",
        "    if os.path.exists(filename):\n",
        "        print(f'{filename} 로드 중...')\n",
        "        return pd.read_pickle(filename)\n",
        "    else:\n",
        "        print(f'{filename} 다운로드 중...')\n",
        "        corp = corp_list.find_by_corp_name(corp_name, exactly=True)\n",
        "        if not corp:\n",
        "            print(f'기업 {corp_name}를 찾을 수 없습니다.')\n",
        "            return None\n",
        "\n",
        "        corp = corp[0]\n",
        "        try:\n",
        "            fs = corp.extract_fs(bgn_de=f'{year}0101')\n",
        "            fs.dataframe.to_pickle(filename)\n",
        "            print(f'{filename} 저장 완료')\n",
        "            return fs.dataframe\n",
        "        except Exception as e:\n",
        "            print(f'오류 발생: {corp_name} - {e}')\n",
        "            return None"
      ]
    },
    {
      "cell_type": "code",
      "execution_count": null,
      "metadata": {
        "id": "x8yr7KYnd1nI"
      },
      "outputs": [],
      "source": [
        "# 병렬 처리 함수\n",
        "from concurrent.futures import ProcessPoolExecutor\n",
        "\n",
        "def parallel_fetch_fs(corp_names, year):\n",
        "    with ProcessPoolExecutor(max_workers=5) as executor:\n",
        "        futures = {executor.submit(fetch_or_load_fs, corp_name, year): corp_name for corp_name in corp_names}\n",
        "        results = {}\n",
        "        for future in concurrent.futures.as_completed(futures):\n",
        "            corp_name = futures[future]\n",
        "            try:\n",
        "                result = future.result()\n",
        "                results[corp_name] = result\n",
        "            except Exception as e:\n",
        "                print(f'오류 발생: {corp_name} - {e}')\n",
        "        return results"
      ]
    },
    {
      "cell_type": "code",
      "execution_count": null,
      "metadata": {
        "colab": {
          "base_uri": "https://localhost:8080/",
          "height": 103,
          "referenced_widgets": [
            "d0f49731cbd5425086acd7fb5da27e7a",
            "bc0ffc4accd242dbb333afe1489f3e1f",
            "4b2471a8f71a4a7d93d14a33aa39c034",
            "fb11c69257bd40c9afe76f233edb184d",
            "7b36891af68448f589dcae062010910b",
            "d738b1f9d5874019afe45c477ff2df79",
            "1575f93b1725437bb0205ea086aa214c",
            "504dcf4df68c4155990d5d426209adb2",
            "29d6824b5f914871b08fbc61a5d62e70",
            "f8bbeaecb1a142f6837ecc82dbf549f4",
            "2ca1f8bd957249f080fac48602ca43e9"
          ]
        },
        "id": "zjEGjELzeAWw",
        "outputId": "2fbdf4c2-7c48-4b2b-9151-2ee830e75b52"
      },
      "outputs": [
        {
          "output_type": "stream",
          "name": "stdout",
          "text": [
            "바이오빌_2021.pkl 다운로드 중...\n"
          ]
        },
        {
          "output_type": "display_data",
          "data": {
            "text/plain": [
              "Annual reports:   0%|          | 0/2 [00:00<?, ?report/s]"
            ],
            "application/vnd.jupyter.widget-view+json": {
              "version_major": 2,
              "version_minor": 0,
              "model_id": "d0f49731cbd5425086acd7fb5da27e7a"
            }
          },
          "metadata": {}
        },
        {
          "output_type": "stream",
          "name": "stdout",
          "text": [
            "오류 발생: 바이오빌 - 'FinancialStatement' object has no attribute 'dataframe'\n",
            "총 실행 시간: 29.35초\n"
          ]
        }
      ],
      "source": [
        "# 테스트 실행\n",
        "if __name__ == \"__main__\":\n",
        "    corp_names = ['바이오빌']  # 처리할 기업 리스트\n",
        "    year = '2021'\n",
        "\n",
        "    # 병렬 처리 실행\n",
        "    start_time = time.time()\n",
        "    results = parallel_fetch_fs(corp_names, year)\n",
        "    end_time = time.time()\n",
        "\n",
        "    print(f\"총 실행 시간: {end_time - start_time:.2f}초\")\n",
        "\n",
        "    # 결과 확인\n",
        "    for corp_name, df in results.items():\n",
        "        if df is not None:\n",
        "            print(f\"{corp_name} 데이터 로드 완료\")"
      ]
    }
  ],
  "metadata": {
    "colab": {
      "provenance": [],
      "authorship_tag": "ABX9TyP6E85k3QAzJrNm/mofjo/X",
      "include_colab_link": true
    },
    "kernelspec": {
      "display_name": "Python 3",
      "name": "python3"
    },
    "language_info": {
      "name": "python"
    },
    "widgets": {
      "application/vnd.jupyter.widget-state+json": {
        "d0f49731cbd5425086acd7fb5da27e7a": {
          "model_module": "@jupyter-widgets/controls",
          "model_name": "HBoxModel",
          "model_module_version": "1.5.0",
          "state": {
            "_dom_classes": [],
            "_model_module": "@jupyter-widgets/controls",
            "_model_module_version": "1.5.0",
            "_model_name": "HBoxModel",
            "_view_count": null,
            "_view_module": "@jupyter-widgets/controls",
            "_view_module_version": "1.5.0",
            "_view_name": "HBoxView",
            "box_style": "",
            "children": [
              "IPY_MODEL_bc0ffc4accd242dbb333afe1489f3e1f",
              "IPY_MODEL_4b2471a8f71a4a7d93d14a33aa39c034",
              "IPY_MODEL_fb11c69257bd40c9afe76f233edb184d"
            ],
            "layout": "IPY_MODEL_7b36891af68448f589dcae062010910b"
          }
        },
        "bc0ffc4accd242dbb333afe1489f3e1f": {
          "model_module": "@jupyter-widgets/controls",
          "model_name": "HTMLModel",
          "model_module_version": "1.5.0",
          "state": {
            "_dom_classes": [],
            "_model_module": "@jupyter-widgets/controls",
            "_model_module_version": "1.5.0",
            "_model_name": "HTMLModel",
            "_view_count": null,
            "_view_module": "@jupyter-widgets/controls",
            "_view_module_version": "1.5.0",
            "_view_name": "HTMLView",
            "description": "",
            "description_tooltip": null,
            "layout": "IPY_MODEL_d738b1f9d5874019afe45c477ff2df79",
            "placeholder": "​",
            "style": "IPY_MODEL_1575f93b1725437bb0205ea086aa214c",
            "value": "Annual reports: 100%"
          }
        },
        "4b2471a8f71a4a7d93d14a33aa39c034": {
          "model_module": "@jupyter-widgets/controls",
          "model_name": "FloatProgressModel",
          "model_module_version": "1.5.0",
          "state": {
            "_dom_classes": [],
            "_model_module": "@jupyter-widgets/controls",
            "_model_module_version": "1.5.0",
            "_model_name": "FloatProgressModel",
            "_view_count": null,
            "_view_module": "@jupyter-widgets/controls",
            "_view_module_version": "1.5.0",
            "_view_name": "ProgressView",
            "bar_style": "success",
            "description": "",
            "description_tooltip": null,
            "layout": "IPY_MODEL_504dcf4df68c4155990d5d426209adb2",
            "max": 2,
            "min": 0,
            "orientation": "horizontal",
            "style": "IPY_MODEL_29d6824b5f914871b08fbc61a5d62e70",
            "value": 2
          }
        },
        "fb11c69257bd40c9afe76f233edb184d": {
          "model_module": "@jupyter-widgets/controls",
          "model_name": "HTMLModel",
          "model_module_version": "1.5.0",
          "state": {
            "_dom_classes": [],
            "_model_module": "@jupyter-widgets/controls",
            "_model_module_version": "1.5.0",
            "_model_name": "HTMLModel",
            "_view_count": null,
            "_view_module": "@jupyter-widgets/controls",
            "_view_module_version": "1.5.0",
            "_view_name": "HTMLView",
            "description": "",
            "description_tooltip": null,
            "layout": "IPY_MODEL_f8bbeaecb1a142f6837ecc82dbf549f4",
            "placeholder": "​",
            "style": "IPY_MODEL_2ca1f8bd957249f080fac48602ca43e9",
            "value": " 2/2 [00:27&lt;00:00, 14.26s/report]"
          }
        },
        "7b36891af68448f589dcae062010910b": {
          "model_module": "@jupyter-widgets/base",
          "model_name": "LayoutModel",
          "model_module_version": "1.2.0",
          "state": {
            "_model_module": "@jupyter-widgets/base",
            "_model_module_version": "1.2.0",
            "_model_name": "LayoutModel",
            "_view_count": null,
            "_view_module": "@jupyter-widgets/base",
            "_view_module_version": "1.2.0",
            "_view_name": "LayoutView",
            "align_content": null,
            "align_items": null,
            "align_self": null,
            "border": null,
            "bottom": null,
            "display": null,
            "flex": null,
            "flex_flow": null,
            "grid_area": null,
            "grid_auto_columns": null,
            "grid_auto_flow": null,
            "grid_auto_rows": null,
            "grid_column": null,
            "grid_gap": null,
            "grid_row": null,
            "grid_template_areas": null,
            "grid_template_columns": null,
            "grid_template_rows": null,
            "height": null,
            "justify_content": null,
            "justify_items": null,
            "left": null,
            "margin": null,
            "max_height": null,
            "max_width": null,
            "min_height": null,
            "min_width": null,
            "object_fit": null,
            "object_position": null,
            "order": null,
            "overflow": null,
            "overflow_x": null,
            "overflow_y": null,
            "padding": null,
            "right": null,
            "top": null,
            "visibility": null,
            "width": null
          }
        },
        "d738b1f9d5874019afe45c477ff2df79": {
          "model_module": "@jupyter-widgets/base",
          "model_name": "LayoutModel",
          "model_module_version": "1.2.0",
          "state": {
            "_model_module": "@jupyter-widgets/base",
            "_model_module_version": "1.2.0",
            "_model_name": "LayoutModel",
            "_view_count": null,
            "_view_module": "@jupyter-widgets/base",
            "_view_module_version": "1.2.0",
            "_view_name": "LayoutView",
            "align_content": null,
            "align_items": null,
            "align_self": null,
            "border": null,
            "bottom": null,
            "display": null,
            "flex": null,
            "flex_flow": null,
            "grid_area": null,
            "grid_auto_columns": null,
            "grid_auto_flow": null,
            "grid_auto_rows": null,
            "grid_column": null,
            "grid_gap": null,
            "grid_row": null,
            "grid_template_areas": null,
            "grid_template_columns": null,
            "grid_template_rows": null,
            "height": null,
            "justify_content": null,
            "justify_items": null,
            "left": null,
            "margin": null,
            "max_height": null,
            "max_width": null,
            "min_height": null,
            "min_width": null,
            "object_fit": null,
            "object_position": null,
            "order": null,
            "overflow": null,
            "overflow_x": null,
            "overflow_y": null,
            "padding": null,
            "right": null,
            "top": null,
            "visibility": null,
            "width": null
          }
        },
        "1575f93b1725437bb0205ea086aa214c": {
          "model_module": "@jupyter-widgets/controls",
          "model_name": "DescriptionStyleModel",
          "model_module_version": "1.5.0",
          "state": {
            "_model_module": "@jupyter-widgets/controls",
            "_model_module_version": "1.5.0",
            "_model_name": "DescriptionStyleModel",
            "_view_count": null,
            "_view_module": "@jupyter-widgets/base",
            "_view_module_version": "1.2.0",
            "_view_name": "StyleView",
            "description_width": ""
          }
        },
        "504dcf4df68c4155990d5d426209adb2": {
          "model_module": "@jupyter-widgets/base",
          "model_name": "LayoutModel",
          "model_module_version": "1.2.0",
          "state": {
            "_model_module": "@jupyter-widgets/base",
            "_model_module_version": "1.2.0",
            "_model_name": "LayoutModel",
            "_view_count": null,
            "_view_module": "@jupyter-widgets/base",
            "_view_module_version": "1.2.0",
            "_view_name": "LayoutView",
            "align_content": null,
            "align_items": null,
            "align_self": null,
            "border": null,
            "bottom": null,
            "display": null,
            "flex": null,
            "flex_flow": null,
            "grid_area": null,
            "grid_auto_columns": null,
            "grid_auto_flow": null,
            "grid_auto_rows": null,
            "grid_column": null,
            "grid_gap": null,
            "grid_row": null,
            "grid_template_areas": null,
            "grid_template_columns": null,
            "grid_template_rows": null,
            "height": null,
            "justify_content": null,
            "justify_items": null,
            "left": null,
            "margin": null,
            "max_height": null,
            "max_width": null,
            "min_height": null,
            "min_width": null,
            "object_fit": null,
            "object_position": null,
            "order": null,
            "overflow": null,
            "overflow_x": null,
            "overflow_y": null,
            "padding": null,
            "right": null,
            "top": null,
            "visibility": null,
            "width": null
          }
        },
        "29d6824b5f914871b08fbc61a5d62e70": {
          "model_module": "@jupyter-widgets/controls",
          "model_name": "ProgressStyleModel",
          "model_module_version": "1.5.0",
          "state": {
            "_model_module": "@jupyter-widgets/controls",
            "_model_module_version": "1.5.0",
            "_model_name": "ProgressStyleModel",
            "_view_count": null,
            "_view_module": "@jupyter-widgets/base",
            "_view_module_version": "1.2.0",
            "_view_name": "StyleView",
            "bar_color": null,
            "description_width": ""
          }
        },
        "f8bbeaecb1a142f6837ecc82dbf549f4": {
          "model_module": "@jupyter-widgets/base",
          "model_name": "LayoutModel",
          "model_module_version": "1.2.0",
          "state": {
            "_model_module": "@jupyter-widgets/base",
            "_model_module_version": "1.2.0",
            "_model_name": "LayoutModel",
            "_view_count": null,
            "_view_module": "@jupyter-widgets/base",
            "_view_module_version": "1.2.0",
            "_view_name": "LayoutView",
            "align_content": null,
            "align_items": null,
            "align_self": null,
            "border": null,
            "bottom": null,
            "display": null,
            "flex": null,
            "flex_flow": null,
            "grid_area": null,
            "grid_auto_columns": null,
            "grid_auto_flow": null,
            "grid_auto_rows": null,
            "grid_column": null,
            "grid_gap": null,
            "grid_row": null,
            "grid_template_areas": null,
            "grid_template_columns": null,
            "grid_template_rows": null,
            "height": null,
            "justify_content": null,
            "justify_items": null,
            "left": null,
            "margin": null,
            "max_height": null,
            "max_width": null,
            "min_height": null,
            "min_width": null,
            "object_fit": null,
            "object_position": null,
            "order": null,
            "overflow": null,
            "overflow_x": null,
            "overflow_y": null,
            "padding": null,
            "right": null,
            "top": null,
            "visibility": null,
            "width": null
          }
        },
        "2ca1f8bd957249f080fac48602ca43e9": {
          "model_module": "@jupyter-widgets/controls",
          "model_name": "DescriptionStyleModel",
          "model_module_version": "1.5.0",
          "state": {
            "_model_module": "@jupyter-widgets/controls",
            "_model_module_version": "1.5.0",
            "_model_name": "DescriptionStyleModel",
            "_view_count": null,
            "_view_module": "@jupyter-widgets/base",
            "_view_module_version": "1.2.0",
            "_view_name": "StyleView",
            "description_width": ""
          }
        }
      }
    }
  },
  "nbformat": 4,
  "nbformat_minor": 0
}